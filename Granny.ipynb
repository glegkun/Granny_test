{
 "cells": [
  {
   "cell_type": "code",
   "execution_count": 14,
   "metadata": {
    "collapsed": true
   },
   "outputs": [],
   "source": [
    "import pandas as pd\n",
    "import matplotlib.pyplot as plt\n",
    "import numpy as np"
   ]
  },
  {
   "cell_type": "code",
   "execution_count": 128,
   "metadata": {
    "collapsed": false
   },
   "outputs": [
    {
     "data": {
      "image/png": "[encoded data removed]",
      "text/plain": [
       "<matplotlib.figure.Figure at 0x22e79c75f98>"
      ]
     },
     "metadata": {},
     "output_type": "display_data"
    }
   ],
   "source": [
    "# Часть 2\n",
    "\n",
    "titanic = pd.read_csv(\"titanic.csv\")\n",
    "titanic\n",
    "\n",
    "pass_ages = titanic[\"Age\"]\n",
    "\n",
    "na_val = pass_ages[np.isnan(pass_ages)]\n",
    "# len(na_val)\n",
    "# 177 unknown ages totally\n",
    "\n",
    "t = pass_ages[~np.isnan(pass_ages)] # оставляем только известные значения\n",
    "\n",
    "plt.hist(t, bins = 25,normed=True, histtype='step', color= \"orange\")\n",
    "plt.title(\"Distribution of passengers by age\")\n",
    "plt.xlabel(\"Age\")\n",
    "plt.ylabel(\"Frequency\")\n",
    "plt.show()\n",
    "\n",
    "\n"
   ]
  },
  {
   "cell_type": "code",
   "execution_count": null,
   "metadata": {
    "collapsed": false
   },
   "outputs": [],
   "source": []
  },
  {
   "cell_type": "code",
   "execution_count": 122,
   "metadata": {
    "collapsed": false
   },
   "outputs": [],
   "source": [
    "# Часть 3"
   ]
  },
  {
   "cell_type": "code",
   "execution_count": 129,
   "metadata": {
    "collapsed": false
   },
   "outputs": [],
   "source": [
    "# генерируем массив случайных чисел (от 0 до 1) размера N = 30\n",
    "N = 30\n",
    "t = np.random.sample(30)\n"
   ]
  },
  {
   "cell_type": "code",
   "execution_count": 99,
   "metadata": {
    "collapsed": true
   },
   "outputs": [],
   "source": [
    "# метод быстрой сортировки\n",
    "# в среднем за O(n log(n))\n",
    "# к недостаткам данной реализации стоит отнести потребность в дополнительной памяти\n",
    "def qSort(A):\n",
    "    # проверяем длину массива\n",
    "    if len(A) <= 1:\n",
    "        return A\n",
    "    else:\n",
    "        q = np.random.choice(A) # случайно выделяем опорный элемент, либо можно взять медиану\n",
    "        # разбиваем массив на 3 части\n",
    "            \n",
    "        S = [elem for elem in A if elem < q]\n",
    "        M = [q] * sum(A == q)\n",
    "        L = [elem for elem in A if elem > q] \n",
    "        # рекурсивно применяем функцию к \"меньшей\" и \"большей\" части\n",
    "        return qSort(S) + M + qSort(L)"
   ]
  },
  {
   "cell_type": "code",
   "execution_count": 123,
   "metadata": {
    "collapsed": false
   },
   "outputs": [
    {
     "data": {
      "text/plain": [
       "[0.0084687907379259464,\n",
       " 0.061182333162817737,\n",
       " 0.16109438349317284,\n",
       " 0.21680453717979031,\n",
       " 0.22536360793667121,\n",
       " 0.3187032143813805,\n",
       " 0.34324053692516665,\n",
       " 0.35854796537199296,\n",
       " 0.42724566648084339,\n",
       " 0.43713355333675219,\n",
       " 0.65251129609832736,\n",
       " 0.65568048071249041,\n",
       " 0.6595397637879491,\n",
       " 0.66556943285911951,\n",
       " 0.6734723217745614,\n",
       " 0.69234161547440665,\n",
       " 0.70397677626368782,\n",
       " 0.71795195060812966,\n",
       " 0.75345346958831494,\n",
       " 0.77572419939149651,\n",
       " 0.78882007161536682,\n",
       " 0.80915928129813974,\n",
       " 0.82985389319569214,\n",
       " 0.83741318329496306,\n",
       " 0.84731781027040864,\n",
       " 0.86660937234414337,\n",
       " 0.87813172077488066,\n",
       " 0.88222107641921754,\n",
       " 0.95590068082632207,\n",
       " 0.98017252434033619]"
      ]
     },
     "execution_count": 123,
     "metadata": {},
     "output_type": "execute_result"
    }
   ],
   "source": [
    "# проводим сортировку\n",
    "qSort(t)"
   ]
  },
  {
   "cell_type": "code",
   "execution_count": null,
   "metadata": {
    "collapsed": false
   },
   "outputs": [],
   "source": []
  },
  {
   "cell_type": "code",
   "execution_count": null,
   "metadata": {
    "collapsed": false
   },
   "outputs": [],
   "source": []
  },
  {
   "cell_type": "code",
   "execution_count": null,
   "metadata": {
    "collapsed": false
   },
   "outputs": [],
   "source": []
  },
  {
   "cell_type": "code",
   "execution_count": null,
   "metadata": {
    "collapsed": true
   },
   "outputs": [],
   "source": []
  }
 ],
 "metadata": {
  "kernelspec": {
   "display_name": "Python 3",
   "language": "python",
   "name": "python3"
  },
  "language_info": {
   "codemirror_mode": {
    "name": "ipython",
    "version": 3
   },
   "file_extension": ".py",
   "mimetype": "text/x-python",
   "name": "python",
   "nbconvert_exporter": "python",
   "pygments_lexer": "ipython3",
   "version": "3.6.0"
  }
 },
 "nbformat": 4,
 "nbformat_minor": 2
}
